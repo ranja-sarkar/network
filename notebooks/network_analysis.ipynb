{
 "cells": [
  {
   "cell_type": "code",
   "execution_count": 1,
   "metadata": {},
   "outputs": [],
   "source": [
    "#IMPORTING LIBRARIES\n",
    "\n",
    "import pandas as pd\n",
    "\n",
    "from IPython.core.display import display, HTML\n",
    "from pyvis import network\n",
    "import networkx as nx"
   ]
  },
  {
   "cell_type": "code",
   "execution_count": 2,
   "metadata": {},
   "outputs": [
    {
     "data": {
      "text/html": [
       "<div>\n",
       "<style scoped>\n",
       "    .dataframe tbody tr th:only-of-type {\n",
       "        vertical-align: middle;\n",
       "    }\n",
       "\n",
       "    .dataframe tbody tr th {\n",
       "        vertical-align: top;\n",
       "    }\n",
       "\n",
       "    .dataframe thead th {\n",
       "        text-align: right;\n",
       "    }\n",
       "</style>\n",
       "<table border=\"1\" class=\"dataframe\">\n",
       "  <thead>\n",
       "    <tr style=\"text-align: right;\">\n",
       "      <th></th>\n",
       "      <th>First_Name</th>\n",
       "      <th>Last_Name</th>\n",
       "      <th>Email_Address</th>\n",
       "      <th>Company</th>\n",
       "      <th>Position</th>\n",
       "      <th>Connected On</th>\n",
       "    </tr>\n",
       "  </thead>\n",
       "  <tbody>\n",
       "    <tr>\n",
       "      <th>0</th>\n",
       "      <td>Akshay</td>\n",
       "      <td>Takawale</td>\n",
       "      <td>NaN</td>\n",
       "      <td>VisionNLP</td>\n",
       "      <td>Data Science Intern</td>\n",
       "      <td>2021-11-16</td>\n",
       "    </tr>\n",
       "    <tr>\n",
       "      <th>1</th>\n",
       "      <td>Nishaa</td>\n",
       "      <td>Selvaraj</td>\n",
       "      <td>NaN</td>\n",
       "      <td>NaN</td>\n",
       "      <td>NaN</td>\n",
       "      <td>2021-11-16</td>\n",
       "    </tr>\n",
       "    <tr>\n",
       "      <th>2</th>\n",
       "      <td>Chandrakanth</td>\n",
       "      <td>LNS</td>\n",
       "      <td>NaN</td>\n",
       "      <td>Brane Enterprises pvt ltd</td>\n",
       "      <td>Data Scientist</td>\n",
       "      <td>2021-11-16</td>\n",
       "    </tr>\n",
       "    <tr>\n",
       "      <th>3</th>\n",
       "      <td>Prathamesh</td>\n",
       "      <td>Agarwal</td>\n",
       "      <td>NaN</td>\n",
       "      <td>Anchanto</td>\n",
       "      <td>Data Scientist</td>\n",
       "      <td>2021-11-15</td>\n",
       "    </tr>\n",
       "    <tr>\n",
       "      <th>4</th>\n",
       "      <td>Gatima</td>\n",
       "      <td>Nupur</td>\n",
       "      <td>NaN</td>\n",
       "      <td>Accenture</td>\n",
       "      <td>Senior Analyst</td>\n",
       "      <td>2021-11-14</td>\n",
       "    </tr>\n",
       "    <tr>\n",
       "      <th>5</th>\n",
       "      <td>Helen</td>\n",
       "      <td>Stevens</td>\n",
       "      <td>NaN</td>\n",
       "      <td>Walmart</td>\n",
       "      <td>Senior Software Engineer</td>\n",
       "      <td>2021-11-14</td>\n",
       "    </tr>\n",
       "    <tr>\n",
       "      <th>6</th>\n",
       "      <td>Prashant</td>\n",
       "      <td>Kumar</td>\n",
       "      <td>NaN</td>\n",
       "      <td>Internity Foundation</td>\n",
       "      <td>Web Developer</td>\n",
       "      <td>2021-11-14</td>\n",
       "    </tr>\n",
       "    <tr>\n",
       "      <th>7</th>\n",
       "      <td>Yashas</td>\n",
       "      <td>PS</td>\n",
       "      <td>NaN</td>\n",
       "      <td>ITC Infotech</td>\n",
       "      <td>IT Specialist</td>\n",
       "      <td>2021-11-13</td>\n",
       "    </tr>\n",
       "    <tr>\n",
       "      <th>8</th>\n",
       "      <td>Aishwarya</td>\n",
       "      <td>Barad</td>\n",
       "      <td>NaN</td>\n",
       "      <td>NaN</td>\n",
       "      <td>NaN</td>\n",
       "      <td>2021-11-13</td>\n",
       "    </tr>\n",
       "    <tr>\n",
       "      <th>9</th>\n",
       "      <td>Mubin</td>\n",
       "      <td>Shaikh</td>\n",
       "      <td>yaminmubin@gmail.com</td>\n",
       "      <td>Industry 4.0 technology consulting private lim...</td>\n",
       "      <td>Machine Learning Engineer</td>\n",
       "      <td>2021-11-13</td>\n",
       "    </tr>\n",
       "  </tbody>\n",
       "</table>\n",
       "</div>"
      ],
      "text/plain": [
       "     First_Name Last_Name         Email_Address  \\\n",
       "0        Akshay  Takawale                   NaN   \n",
       "1        Nishaa  Selvaraj                   NaN   \n",
       "2  Chandrakanth       LNS                   NaN   \n",
       "3    Prathamesh   Agarwal                   NaN   \n",
       "4        Gatima     Nupur                   NaN   \n",
       "5        Helen    Stevens                   NaN   \n",
       "6      Prashant     Kumar                   NaN   \n",
       "7        Yashas        PS                   NaN   \n",
       "8     Aishwarya     Barad                   NaN   \n",
       "9         Mubin    Shaikh  yaminmubin@gmail.com   \n",
       "\n",
       "                                             Company  \\\n",
       "0                                          VisionNLP   \n",
       "1                                                NaN   \n",
       "2                          Brane Enterprises pvt ltd   \n",
       "3                                           Anchanto   \n",
       "4                                          Accenture   \n",
       "5                                            Walmart   \n",
       "6                               Internity Foundation   \n",
       "7                                       ITC Infotech   \n",
       "8                                                NaN   \n",
       "9  Industry 4.0 technology consulting private lim...   \n",
       "\n",
       "                    Position Connected On  \n",
       "0        Data Science Intern   2021-11-16  \n",
       "1                        NaN   2021-11-16  \n",
       "2             Data Scientist   2021-11-16  \n",
       "3             Data Scientist   2021-11-15  \n",
       "4             Senior Analyst   2021-11-14  \n",
       "5   Senior Software Engineer   2021-11-14  \n",
       "6              Web Developer   2021-11-14  \n",
       "7             IT Specialist    2021-11-13  \n",
       "8                        NaN   2021-11-13  \n",
       "9  Machine Learning Engineer   2021-11-13  "
      ]
     },
     "execution_count": 2,
     "metadata": {},
     "output_type": "execute_result"
    }
   ],
   "source": [
    "#LOAD DATA INTO DATAFRAME\n",
    "\n",
    "df = pd.read_excel(\"Connections.xlsx\")\n",
    "df.head(10)"
   ]
  },
  {
   "cell_type": "code",
   "execution_count": 3,
   "metadata": {},
   "outputs": [
    {
     "name": "stdout",
     "output_type": "stream",
     "text": [
      "<class 'pandas.core.frame.DataFrame'>\n",
      "RangeIndex: 29 entries, 0 to 28\n",
      "Data columns (total 3 columns):\n",
      " #   Column        Non-Null Count  Dtype         \n",
      "---  ------        --------------  -----         \n",
      " 0   Company       25 non-null     object        \n",
      " 1   Position      24 non-null     object        \n",
      " 2   Connected On  29 non-null     datetime64[ns]\n",
      "dtypes: datetime64[ns](1), object(2)\n",
      "memory usage: 824.0+ bytes\n"
     ]
    }
   ],
   "source": [
    "#DROP COLUMNS FOR DATA PRIVACY\n",
    "\n",
    "df = (df.drop(columns=['First_Name', 'Last_Name', 'Email_Address']))\n",
    "df.info()"
   ]
  },
  {
   "cell_type": "markdown",
   "metadata": {},
   "source": [
    "A 'Position' network (yourself as central node) would require dropping missing values in the respective column. You might also have to process other aspects of the columns for 'clean data', depending on your copy of data."
   ]
  },
  {
   "cell_type": "code",
   "execution_count": 4,
   "metadata": {},
   "outputs": [
    {
     "name": "stdout",
     "output_type": "stream",
     "text": [
      "<class 'pandas.core.frame.DataFrame'>\n",
      "Int64Index: 24 entries, 0 to 28\n",
      "Data columns (total 3 columns):\n",
      " #   Column        Non-Null Count  Dtype         \n",
      "---  ------        --------------  -----         \n",
      " 0   Company       24 non-null     object        \n",
      " 1   Position      24 non-null     object        \n",
      " 2   Connected On  24 non-null     datetime64[ns]\n",
      "dtypes: datetime64[ns](1), object(2)\n",
      "memory usage: 768.0+ bytes\n"
     ]
    }
   ],
   "source": [
    "df = df.dropna(subset = ['Position'])\n",
    "df.info()"
   ]
  },
  {
   "cell_type": "code",
   "execution_count": 5,
   "metadata": {},
   "outputs": [
    {
     "data": {
      "text/plain": [
       "(13, 2)"
      ]
     },
     "execution_count": 5,
     "metadata": {},
     "output_type": "execute_result"
    }
   ],
   "source": [
    "#COUNT NUMBER OF POSITIONS WITH SAME DESIGNATION\n",
    "df_post = df['Position'].value_counts().reset_index()\n",
    "df_post.columns = ['Position', 'count']\n",
    "df_post = df_post.sort_values(by = \"count\", ascending = False)\n",
    "\n",
    "\n",
    "#GET INFO OF THE NUMBER OF 'TO-BE DISPLAYED' NODES\n",
    "df_post_reduced = df_post.loc[df_post['count'] >= 1]\n",
    "df_post_reduced.shape"
   ]
  },
  {
   "cell_type": "code",
   "execution_count": 6,
   "metadata": {},
   "outputs": [
    {
     "data": {
      "text/html": [
       "\n",
       "        <iframe\n",
       "            width=\"700px\"\n",
       "            height=\"500px\"\n",
       "            src=\"position_graph.html\"\n",
       "            frameborder=\"0\"\n",
       "            allowfullscreen\n",
       "        ></iframe>\n",
       "        "
      ],
      "text/plain": [
       "<IPython.lib.display.IFrame at 0x213ebfd1688>"
      ]
     },
     "execution_count": 6,
     "metadata": {},
     "output_type": "execute_result"
    }
   ],
   "source": [
    "# initialize graph\n",
    "g = nx.Graph()\n",
    "for _, row in df_post_reduced.iterrows():\n",
    "    \n",
    "    post = row['Position']\n",
    "    count = row['count']\n",
    "\n",
    "    title = f\"<b>{post}</b> - {count}\"\n",
    "    hover_info = title\n",
    "\n",
    "    #if count is not high in general, node size (arg) can be enhanced\n",
    "    g.add_node(post, size = count*2, title = hover_info, color = 'red')\n",
    "    g.add_edge('root', post, color = 'grey')\n",
    "\n",
    "    \n",
    "# generate graph\n",
    "nt = network.Network(height = '500px', width = '700px', bgcolor = \"white\", font_color = 'black', notebook = True)\n",
    "nt.from_nx(g)\n",
    "nt.hrepulsion()\n",
    "nt.show('position_graph.html')"
   ]
  },
  {
   "cell_type": "code",
   "execution_count": null,
   "metadata": {},
   "outputs": [],
   "source": []
  }
 ],
 "metadata": {
  "kernelspec": {
   "display_name": "Python 3",
   "language": "python",
   "name": "python3"
  },
  "language_info": {
   "codemirror_mode": {
    "name": "ipython",
    "version": 3
   },
   "file_extension": ".py",
   "mimetype": "text/x-python",
   "name": "python",
   "nbconvert_exporter": "python",
   "pygments_lexer": "ipython3",
   "version": "3.7.6"
  },
  "toc": {
   "base_numbering": 1,
   "nav_menu": {},
   "number_sections": true,
   "sideBar": true,
   "skip_h1_title": false,
   "title_cell": "Table of Contents",
   "title_sidebar": "Contents",
   "toc_cell": false,
   "toc_position": {},
   "toc_section_display": true,
   "toc_window_display": false
  },
  "varInspector": {
   "cols": {
    "lenName": 16,
    "lenType": 16,
    "lenVar": 40
   },
   "kernels_config": {
    "python": {
     "delete_cmd_postfix": "",
     "delete_cmd_prefix": "del ",
     "library": "var_list.py",
     "varRefreshCmd": "print(var_dic_list())"
    },
    "r": {
     "delete_cmd_postfix": ") ",
     "delete_cmd_prefix": "rm(",
     "library": "var_list.r",
     "varRefreshCmd": "cat(var_dic_list()) "
    }
   },
   "types_to_exclude": [
    "module",
    "function",
    "builtin_function_or_method",
    "instance",
    "_Feature"
   ],
   "window_display": false
  }
 },
 "nbformat": 4,
 "nbformat_minor": 2
}
