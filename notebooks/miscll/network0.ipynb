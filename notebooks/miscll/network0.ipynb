{
 "cells": [
  {
   "cell_type": "code",
   "execution_count": 1,
   "metadata": {},
   "outputs": [],
   "source": [
    "import datetime\n",
    "\n",
    "# (hours, minutes)\n",
    "start_time = datetime.time(7, 0)\n",
    "# (year, month, day)\n",
    "start_date = datetime.date(2019, 8, 14)\n",
    "\n",
    "start_datetime = datetime.datetime.combine(start_date, start_time)\n",
    "\n",
    "# (days, seconds, microseconds: timedeltas)\n",
    "\n",
    "start_datetime.date().weekday()\n",
    "\n",
    "new_datetime = datetime.datetime.strptime('2019-08-14', '%Y-%m-%d')\n",
    "# Turn a datetime into a date string\n",
    "new_datetime.strftime('%Y-%m-%d')\n",
    "\n",
    "#https://github.com/khuyentran1401/Data-science/blob/master/time_series/extract_features/extract_features_from_dates.ipynb"
   ]
  },
  {
   "cell_type": "raw",
   "metadata": {},
   "source": [
    "## !pip install pyjanitor pyvis --quiet"
   ]
  },
  {
   "cell_type": "code",
   "execution_count": 6,
   "metadata": {},
   "outputs": [],
   "source": [
    "import pandas as pd\n",
    "#import janitor\n",
    "#import datetime\n",
    "\n",
    "from IPython.core.display import display, HTML\n",
    "import pyvis\n",
    "from pyvis import network\n",
    "import networkx as nx"
   ]
  },
  {
   "cell_type": "code",
   "execution_count": 8,
   "metadata": {},
   "outputs": [
    {
     "data": {
      "text/plain": [
       "'2.4'"
      ]
     },
     "execution_count": 8,
     "metadata": {},
     "output_type": "execute_result"
    }
   ],
   "source": [
    "nx.__version__"
   ]
  },
  {
   "cell_type": "code",
   "execution_count": 2,
   "metadata": {},
   "outputs": [
    {
     "data": {
      "text/html": [
       "<div>\n",
       "<style scoped>\n",
       "    .dataframe tbody tr th:only-of-type {\n",
       "        vertical-align: middle;\n",
       "    }\n",
       "\n",
       "    .dataframe tbody tr th {\n",
       "        vertical-align: top;\n",
       "    }\n",
       "\n",
       "    .dataframe thead th {\n",
       "        text-align: right;\n",
       "    }\n",
       "</style>\n",
       "<table border=\"1\" class=\"dataframe\">\n",
       "  <thead>\n",
       "    <tr style=\"text-align: right;\">\n",
       "      <th></th>\n",
       "      <th>First_Name</th>\n",
       "      <th>Last_Name</th>\n",
       "      <th>Email_Address</th>\n",
       "      <th>Company</th>\n",
       "      <th>Position</th>\n",
       "      <th>Connected On</th>\n",
       "    </tr>\n",
       "  </thead>\n",
       "  <tbody>\n",
       "    <tr>\n",
       "      <th>0</th>\n",
       "      <td>Akshay</td>\n",
       "      <td>Takawale</td>\n",
       "      <td>NaN</td>\n",
       "      <td>VisionNLP</td>\n",
       "      <td>Data Science Intern</td>\n",
       "      <td>2021-11-16</td>\n",
       "    </tr>\n",
       "    <tr>\n",
       "      <th>1</th>\n",
       "      <td>Nishaa</td>\n",
       "      <td>Selvaraj</td>\n",
       "      <td>NaN</td>\n",
       "      <td>NaN</td>\n",
       "      <td>NaN</td>\n",
       "      <td>2021-11-16</td>\n",
       "    </tr>\n",
       "    <tr>\n",
       "      <th>2</th>\n",
       "      <td>Chandrakanth</td>\n",
       "      <td>LNS</td>\n",
       "      <td>NaN</td>\n",
       "      <td>Brane Enterprises pvt ltd</td>\n",
       "      <td>Data Scientist</td>\n",
       "      <td>2021-11-16</td>\n",
       "    </tr>\n",
       "    <tr>\n",
       "      <th>3</th>\n",
       "      <td>Prathamesh</td>\n",
       "      <td>Agarwal</td>\n",
       "      <td>NaN</td>\n",
       "      <td>Anchanto</td>\n",
       "      <td>Data Scientist</td>\n",
       "      <td>2021-11-15</td>\n",
       "    </tr>\n",
       "    <tr>\n",
       "      <th>4</th>\n",
       "      <td>Gatima</td>\n",
       "      <td>Nupur</td>\n",
       "      <td>NaN</td>\n",
       "      <td>Accenture</td>\n",
       "      <td>Senior Analyst</td>\n",
       "      <td>2021-11-14</td>\n",
       "    </tr>\n",
       "  </tbody>\n",
       "</table>\n",
       "</div>"
      ],
      "text/plain": [
       "     First_Name Last_Name Email_Address                    Company  \\\n",
       "0        Akshay  Takawale           NaN                  VisionNLP   \n",
       "1        Nishaa  Selvaraj           NaN                        NaN   \n",
       "2  Chandrakanth       LNS           NaN  Brane Enterprises pvt ltd   \n",
       "3    Prathamesh   Agarwal           NaN                   Anchanto   \n",
       "4        Gatima     Nupur           NaN                  Accenture   \n",
       "\n",
       "              Position Connected On  \n",
       "0  Data Science Intern   2021-11-16  \n",
       "1                  NaN   2021-11-16  \n",
       "2       Data Scientist   2021-11-16  \n",
       "3       Data Scientist   2021-11-15  \n",
       "4       Senior Analyst   2021-11-14  "
      ]
     },
     "execution_count": 2,
     "metadata": {},
     "output_type": "execute_result"
    }
   ],
   "source": [
    "#df_ori = pd.read_csv(\"Connections.csv\", skiprows=2)\n",
    "#df = pd.read_excel(\"Connections.xlsx\", sheet_name= \"worksheet\")\n",
    "df = pd.read_excel(\"Connections.xlsx\")\n",
    "df.head()"
   ]
  },
  {
   "cell_type": "code",
   "execution_count": 13,
   "metadata": {},
   "outputs": [],
   "source": [
    "#df = (\n",
    "#    df_ori\n",
    "#    .clean_names() # remove spacing and capitalization\n",
    "#    .drop(columns=['first_name', 'last_name', 'email_address']) # drop for privacy\n",
    "#    .dropna(subset=['company', 'position']) # drop missing values in company and position\n",
    "#    .to_datetime('connected_on', format='%d %b %Y')\n",
    "#  )\n"
   ]
  },
  {
   "cell_type": "code",
   "execution_count": 3,
   "metadata": {},
   "outputs": [],
   "source": [
    "df = (df\n",
    "    .drop(columns = ['First_Name', 'Last_Name', 'Email_Address']) # drop for privacy\n",
    "    .dropna(subset = ['Position']) # drop missing values in company and position\n",
    "  )"
   ]
  },
  {
   "cell_type": "code",
   "execution_count": 3,
   "metadata": {},
   "outputs": [
    {
     "data": {
      "image/png": "[encoded data removed]",
      "text/plain": [
       "<Figure size 432x288 with 1 Axes>"
      ]
     },
     "metadata": {
      "needs_background": "light"
     },
     "output_type": "display_data"
    }
   ],
   "source": [
    "df['Company'].value_counts().head(10).plot(kind = \"barh\").invert_yaxis()"
   ]
  },
  {
   "cell_type": "code",
   "execution_count": 34,
   "metadata": {},
   "outputs": [],
   "source": [
    "#df['connected_on'].hist(xrot=35, bins=15);\n",
    "#df.drop()\n",
    "\n",
    "#pattern = \"freelance|self-employed\"\n",
    "#df = df[~df['company'].str.contains(pattern, case=False)]"
   ]
  },
  {
   "cell_type": "code",
   "execution_count": 4,
   "metadata": {},
   "outputs": [],
   "source": [
    "df_company = df['Company'].value_counts().reset_index()\n",
    "df_company.columns = ['Company', 'count']\n",
    "df_company = df_company.sort_values(by = \"count\", ascending = False)\n",
    "#df_company.head(10)"
   ]
  },
  {
   "cell_type": "code",
   "execution_count": 4,
   "metadata": {},
   "outputs": [],
   "source": [
    "df_post = df['Position'].value_counts().reset_index()\n",
    "df_post.columns = ['Position', 'count']\n",
    "df_post = df_post.sort_values(by = \"count\", ascending = False)"
   ]
  },
  {
   "cell_type": "code",
   "execution_count": 6,
   "metadata": {},
   "outputs": [
    {
     "data": {
      "text/html": [
       "\n",
       "        <iframe\n",
       "            width=\"500px\"\n",
       "            height=\"500px\"\n",
       "            src=\"nodes.html\"\n",
       "            frameborder=\"0\"\n",
       "            allowfullscreen\n",
       "        ></iframe>\n",
       "        "
      ],
      "text/plain": [
       "<IPython.lib.display.IFrame at 0x24648961408>"
      ]
     },
     "execution_count": 6,
     "metadata": {},
     "output_type": "execute_result"
    }
   ],
   "source": [
    "##Generic graph\n",
    "\n",
    "nt = network.Network(notebook = True)\n",
    "\n",
    "g = nx.Graph()\n",
    "g.add_node(0, label = \"root\") # intialize yourself as central node\n",
    "g.add_node(1, label = \"Company 1\", size=10, title = \"info1\")\n",
    "g.add_node(2, label = \"Company 2\", size=40, title = \"info2\")\n",
    "g.add_node(3, label = \"Company 3\", size=60, title = \"info3\")\n",
    "g.add_edge(0, 1)\n",
    "g.add_edge(0, 2)\n",
    "g.add_edge(0, 3)\n",
    "\n",
    "nt.from_nx(g)\n",
    "nt.show('nodes.html')\n",
    "#display(HTML('nodes.html'))"
   ]
  },
  {
   "cell_type": "code",
   "execution_count": null,
   "metadata": {},
   "outputs": [],
   "source": [
    "#print(f\"number of nodes: {g.number_of_nodes()}\")\n",
    "#print(f\"number of edges: {g.number_of_edges()}\")"
   ]
  },
  {
   "cell_type": "code",
   "execution_count": 16,
   "metadata": {},
   "outputs": [
    {
     "name": "stdout",
     "output_type": "stream",
     "text": [
      "Shell-74\n",
      "Tata Consultancy Services-17\n",
      "The Sparks Foundation-13\n",
      "Accenture-13\n",
      "Deloitte India (Offices of the US)-12\n"
     ]
    }
   ],
   "source": [
    "for _, row in df_company.head(5).iterrows():\n",
    "  print(row['Company'] + \"-\" + str(row['count']))"
   ]
  },
  {
   "cell_type": "code",
   "execution_count": 5,
   "metadata": {},
   "outputs": [
    {
     "name": "stdout",
     "output_type": "stream",
     "text": [
      "(13, 2)\n"
     ]
    }
   ],
   "source": [
    "df_post_reduced = df_post.loc[df_post['count'] >= 1]\n",
    "print(df_post_reduced.shape)"
   ]
  },
  {
   "cell_type": "code",
   "execution_count": 1,
   "metadata": {},
   "outputs": [],
   "source": [
    "#print(df_position.shape)\n",
    "#df_position_reduced = df_position.loc[df_position['count'] >= 5]\n",
    "#print(df_position_reduced.shape)"
   ]
  },
  {
   "cell_type": "code",
   "execution_count": 6,
   "metadata": {},
   "outputs": [
    {
     "data": {
      "text/html": [
       "\n",
       "        <iframe\n",
       "            width=\"900px\"\n",
       "            height=\"700px\"\n",
       "            src=\"company_graph.html\"\n",
       "            frameborder=\"0\"\n",
       "            allowfullscreen\n",
       "        ></iframe>\n",
       "        "
      ],
      "text/plain": [
       "<IPython.lib.display.IFrame at 0x16291672fc8>"
      ]
     },
     "execution_count": 6,
     "metadata": {},
     "output_type": "execute_result"
    }
   ],
   "source": [
    "# initialize graph\n",
    "g = nx.Graph()\n",
    "g.add_node('root') # intialize yourself as central\n",
    "\n",
    "\n",
    "#use iterrows tp iterate through the data frame\n",
    "for _, row in df_post_reduced.iterrows():\n",
    "\n",
    "\n",
    "  # store company name and count\n",
    "  post = row['Position']\n",
    "  count = row['count']\n",
    "\n",
    "  title = f\"<b>{post}</b> - {count}\"\n",
    "  #title = f\"{count}\"\n",
    "  #positions = set([x for x in df[Position == df['Company']]['Position']])\n",
    "  #positions = ''.join('<li>{}</li>'.format(x) for x in positions)\n",
    "\n",
    "  #company_list = f\"<ul>{company}</ul>\"\n",
    "  #hover_info = title + company_list\n",
    "  hover_info = title\n",
    "\n",
    "  #g.add_node(company, size = count*2, title = hover_info, color = '#3449eb')\n",
    "  g.add_node(post, size = count*2, title = hover_info, color = 'red')\n",
    "  g.add_edge('root', post, color = 'grey')\n",
    "\n",
    "#generate the graph\n",
    "nt = network.Network(height = '700px', width = '900px', bgcolor = \"white\", font_color = 'black', notebook = True)\n",
    "nt.from_nx(g)\n",
    "nt.hrepulsion()\n",
    "\n",
    "# more customization https://tinyurl.com/yf5lvvdm\n",
    "nt.show('company_graph.html')\n",
    "#display(HTML('company_graph.html'))"
   ]
  },
  {
   "cell_type": "code",
   "execution_count": null,
   "metadata": {},
   "outputs": [],
   "source": []
  }
 ],
 "metadata": {
  "kernelspec": {
   "display_name": "Python 3",
   "language": "python",
   "name": "python3"
  },
  "language_info": {
   "codemirror_mode": {
    "name": "ipython",
    "version": 3
   },
   "file_extension": ".py",
   "mimetype": "text/x-python",
   "name": "python",
   "nbconvert_exporter": "python",
   "pygments_lexer": "ipython3",
   "version": "3.7.6"
  },
  "toc": {
   "base_numbering": 1,
   "nav_menu": {},
   "number_sections": true,
   "sideBar": true,
   "skip_h1_title": false,
   "title_cell": "Table of Contents",
   "title_sidebar": "Contents",
   "toc_cell": false,
   "toc_position": {},
   "toc_section_display": true,
   "toc_window_display": false
  },
  "varInspector": {
   "cols": {
    "lenName": 16,
    "lenType": 16,
    "lenVar": 40
   },
   "kernels_config": {
    "python": {
     "delete_cmd_postfix": "",
     "delete_cmd_prefix": "del ",
     "library": "var_list.py",
     "varRefreshCmd": "print(var_dic_list())"
    },
    "r": {
     "delete_cmd_postfix": ") ",
     "delete_cmd_prefix": "rm(",
     "library": "var_list.r",
     "varRefreshCmd": "cat(var_dic_list()) "
    }
   },
   "types_to_exclude": [
    "module",
    "function",
    "builtin_function_or_method",
    "instance",
    "_Feature"
   ],
   "window_display": false
  }
 },
 "nbformat": 4,
 "nbformat_minor": 2
}
