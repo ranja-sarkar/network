{
 "cells": [
  {
   "cell_type": "code",
   "execution_count": 2,
   "metadata": {},
   "outputs": [],
   "source": [
    "import docx2txt\n",
    "from nltk import word_tokenize\n",
    "from nltk.corpus import stopwords\n",
    "from nltk.stem import LancasterStemmer, WordNetLemmatizer\n",
    "\n",
    "text = \"One of the characteristics of the proposed FCP system, based on thermoplastics, is that it's permeable for service fluid.\"\n",
    "\n",
    "def to_lowercase(text):\n",
    "        \"\"\"Convert all characters to lowercase from list of tokenized words\"\"\"\n",
    "        return [x.lower() for x in text]\n",
    "\n",
    "def remove_numbers(text):\n",
    "        \"\"\"Remove all interger occurrences in list of tokenized words\"\"\"\n",
    "        #remove all numbers\n",
    "        return[word for word in text if not word.isdigit()]\n",
    "        \n",
    "def remove_non_ascii(text):\n",
    "        \"\"\"Remove non-ASCII characters from list of tokenized words\"\"\"\n",
    "        new_words = []\n",
    "        for word in text:\n",
    "            new_word = unicodedata.normalize('NFKD', word).encode('ascii', 'ignore').decode('utf-8', 'ignore')\n",
    "            new_words.append(new_word)\n",
    "        \n",
    "        return text\n",
    "        \n",
    "def remove_punctuation(text):\n",
    "        \n",
    "        \"\"\"Remove punctuation from list of tokenized words\"\"\"\n",
    "        new_words = []\n",
    "        for word in text:\n",
    "            new_word = re.sub(r'[^\\w\\s]', '', word)\n",
    "            if new_word != '':\n",
    "                new_words.append(new_word)\n",
    "        return new_words\n",
    "    \n",
    "def remove_stopwords(text):\n",
    "           \n",
    "        \"\"\"Remove stop words from list of tokenized words\"\"\"\n",
    "        return [word for word in text if word not in stopwords.words('english')]\n",
    "\n",
    "def stem_words(text):\n",
    "        \"\"\"Stem words in list of tokenized words\"\"\"\n",
    "        stemmer = LancasterStemmer()\n",
    "        return [stemmer.stem(word) for word in text]\n",
    "        \n",
    "        \n",
    "def lemmatize_verbs(text):\n",
    "        \"\"\"Lemmatize verbs in list of tokenized words\"\"\"\n",
    "        \n",
    "        lemmatizer = WordNetLemmatizer()\n",
    "        return [lemmatizer.lemmatize(word, pos='v') for word in text]\n",
    "\n"
   ]
  },
  {
   "cell_type": "code",
   "execution_count": null,
   "metadata": {},
   "outputs": [],
   "source": []
  },
  {
   "cell_type": "code",
   "execution_count": null,
   "metadata": {},
   "outputs": [],
   "source": []
  }
 ],
 "metadata": {
  "kernelspec": {
   "display_name": "Python 3",
   "language": "python",
   "name": "python3"
  },
  "language_info": {
   "codemirror_mode": {
    "name": "ipython",
    "version": 3
   },
   "file_extension": ".py",
   "mimetype": "text/x-python",
   "name": "python",
   "nbconvert_exporter": "python",
   "pygments_lexer": "ipython3",
   "version": "3.6.8"
  }
 },
 "nbformat": 4,
 "nbformat_minor": 2
}
