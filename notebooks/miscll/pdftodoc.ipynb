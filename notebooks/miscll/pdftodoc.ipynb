{
 "cells": [
  {
   "cell_type": "code",
   "execution_count": null,
   "metadata": {},
   "outputs": [],
   "source": [
    "# import required libraries\n",
    "\n",
    "import dash\n",
    "import dash_core_components as dcc\n",
    "import dash_html_components as html\n",
    "from dash.dependencies import Input, Output\n",
    "\n",
    "# styling of the webApp (ideally, a Shell style sheet should be used)\n",
    "external_stylesheets = ['https://codepen.io/chriddyp/pen/bWLwgP.css']\n",
    "\n",
    "app = dash.Dash(__name__, external_stylesheets = external_stylesheets)\n",
    "\n",
    "# layout (input parameters & the way they're fed)\n",
    "app.layout = html.Div([\n",
    "    html.Label('Type x'),\n",
    "    dcc.Input(\n",
    "        id ='num',\n",
    "        type ='number',\n",
    "        value = 6\n",
    "    ),\n",
    "    html.Table([\n",
    "        html.Tr([html.Td(['x', html.Sup(2)]), html.Td(id='square')]),\n",
    "        html.Tr([html.Td(['x', html.Sup(3)]), html.Td(id='cube')]),\n",
    "        html.Tr([html.Td(['x', html.Sup('x')]), html.Td(id='x^x')]),\n",
    "    ]),\n",
    "])\n",
    "\n",
    "# visual output \n",
    "@app.callback(\n",
    "    [Output('square', 'children'),\n",
    "     Output('cube', 'children'),\n",
    "     Output('x^x', 'children')],\n",
    "    [Input('num', 'value')])\n",
    "\n",
    "# function that's called for output\n",
    "def callback_a(x):\n",
    "    return x**2, x**3, x**x\n",
    "\n",
    "\n",
    "if __name__ == '__main__':\n",
    "    app.run_server(debug = False)"
   ]
  },
  {
   "cell_type": "code",
   "execution_count": 2,
   "metadata": {},
   "outputs": [
    {
     "name": "stderr",
     "output_type": "stream",
     "text": [
      "[INFO] Start to convert User Guide DP_v5.0.pdf\n",
      "[INFO] \u001b[1;36m[1/4] Opening document...\u001b[0m\n",
      "[INFO] \u001b[1;36m[2/4] Analyzing document...\u001b[0m\n",
      "Deprecation: 'getText' removed from class 'Page' after v1.19.0 - use 'get_text'.\n",
      "Deprecation: 'getImageList' removed from class 'Page' after v1.19.0 - use 'get_images'.\n",
      "Deprecation: 'getImageBbox' removed from class 'Page' after v1.19.0 - use 'get_image_bbox'.\n",
      "Deprecation: 'setAlpha' removed from class 'Pixmap' after v1.19.0 - use 'set_alpha'.\n",
      "Deprecation: 'getPNGData' removed from class 'Pixmap' after v1.19.0 - use 'tobytes'.\n",
      "Deprecation: 'getDrawings' removed from class 'Page' after v1.19.0 - use 'get_drawings'.\n",
      "Deprecation: 'getArea' removed from class 'Rect' after v1.19.0 - use 'get_area'.\n",
      "Deprecation: 'getLinks' removed from class 'Page' after v1.19.0 - use 'get_links'.\n",
      "[INFO] \u001b[1;36m[3/4] Parsing pages...\u001b[0m\n",
      "[INFO] (1/18) Page 1\n",
      "[INFO] (2/18) Page 2\n",
      "[INFO] (3/18) Page 3\n",
      "[INFO] (4/18) Page 4\n",
      "[INFO] (5/18) Page 5\n",
      "[INFO] (6/18) Page 6\n",
      "[INFO] (7/18) Page 7\n",
      "[INFO] (8/18) Page 8\n",
      "[INFO] (9/18) Page 9\n",
      "[INFO] (10/18) Page 10\n",
      "[INFO] (11/18) Page 11\n",
      "[INFO] (12/18) Page 12\n",
      "[INFO] (13/18) Page 13\n",
      "[INFO] (14/18) Page 14\n",
      "[INFO] (15/18) Page 15\n",
      "[INFO] (16/18) Page 16\n",
      "[INFO] (17/18) Page 17\n",
      "[INFO] (18/18) Page 18\n",
      "[INFO] \u001b[1;36m[4/4] Creating pages...\u001b[0m\n",
      "[INFO] (1/18) Page 1\n",
      "[INFO] (2/18) Page 2\n",
      "[INFO] (3/18) Page 3\n",
      "[INFO] (4/18) Page 4\n",
      "[INFO] (5/18) Page 5\n",
      "[INFO] (6/18) Page 6\n",
      "[INFO] (7/18) Page 7\n",
      "[INFO] (8/18) Page 8\n",
      "[INFO] (9/18) Page 9\n",
      "[INFO] (10/18) Page 10\n",
      "[INFO] (11/18) Page 11\n",
      "[INFO] (12/18) Page 12\n",
      "[INFO] (13/18) Page 13\n",
      "[INFO] (14/18) Page 14\n",
      "[INFO] (15/18) Page 15\n",
      "[INFO] (16/18) Page 16\n",
      "[INFO] (17/18) Page 17\n",
      "[INFO] (18/18) Page 18\n",
      "[INFO] Terminated in 19.81s.\n"
     ]
    }
   ],
   "source": [
    "from pdf2docx import parse\n",
    "\n",
    "pdf_file = \"User Guide DP_v5.0.pdf\"\n",
    "word_file = \"User Guide DP_v5.0.docx\"\n",
    "parse(pdf_file, word_file, start = 0, end = None)"
   ]
  },
  {
   "cell_type": "code",
   "execution_count": 1,
   "metadata": {},
   "outputs": [],
   "source": [
    "import datapane as dp\n",
    "import pandas as pd\n",
    "#import altair as alt\n",
    "\n",
    "#dp.Report(\n",
    "#    dp.Text(\"## My network!\"),\n",
    "#).save(path = \"Hello_world.html\")"
   ]
  },
  {
   "cell_type": "code",
   "execution_count": 4,
   "metadata": {},
   "outputs": [
    {
     "ename": "DPError",
     "evalue": "Can't embed object as a plot\nPlease run with `dp.enable_logging()`, restart your Jupyter kernel/Python instance, and/or visit https://www.github.com/datapane/datapane to raise issue / discuss if error repeats",
     "output_type": "error",
     "traceback": [
      "\u001b[1;31m---------------------------------------------------------------------------\u001b[0m",
      "\u001b[1;31mDPError\u001b[0m                                   Traceback (most recent call last)",
      "\u001b[1;32m<ipython-input-4-78f78c491767>\u001b[0m in \u001b[0;36m<module>\u001b[1;34m\u001b[0m\n\u001b[0;32m      7\u001b[0m     \u001b[1;31m#dp.Text(\"## Data\"),\u001b[0m\u001b[1;33m\u001b[0m\u001b[1;33m\u001b[0m\u001b[1;33m\u001b[0m\u001b[0m\n\u001b[0;32m      8\u001b[0m     \u001b[0mdp\u001b[0m\u001b[1;33m.\u001b[0m\u001b[0mTable\u001b[0m\u001b[1;33m(\u001b[0m\u001b[0mdf\u001b[0m\u001b[1;33m[\u001b[0m\u001b[1;33m[\u001b[0m\u001b[1;34m'Position'\u001b[0m\u001b[1;33m,\u001b[0m \u001b[1;34m'Connected On'\u001b[0m\u001b[1;33m]\u001b[0m\u001b[1;33m]\u001b[0m\u001b[1;33m.\u001b[0m\u001b[0mhead\u001b[0m\u001b[1;33m(\u001b[0m\u001b[1;36m10\u001b[0m\u001b[1;33m)\u001b[0m\u001b[1;33m,\u001b[0m \u001b[0mlabel\u001b[0m \u001b[1;33m=\u001b[0m \u001b[1;34m\"Data\"\u001b[0m\u001b[1;33m)\u001b[0m\u001b[1;33m,\u001b[0m\u001b[1;33m\u001b[0m\u001b[1;33m\u001b[0m\u001b[0m\n\u001b[1;32m----> 9\u001b[1;33m     \u001b[0mdp\u001b[0m\u001b[1;33m.\u001b[0m\u001b[0mPlot\u001b[0m\u001b[1;33m(\u001b[0m\u001b[0mplot1\u001b[0m\u001b[1;33m,\u001b[0m \u001b[0mlabel\u001b[0m \u001b[1;33m=\u001b[0m \u001b[1;34m\"Positions\"\u001b[0m\u001b[1;33m)\u001b[0m\u001b[1;33m,\u001b[0m\u001b[1;33m\u001b[0m\u001b[1;33m\u001b[0m\u001b[0m\n\u001b[0m\u001b[0;32m     10\u001b[0m     \u001b[1;31m#dp.Plot(plot2)\u001b[0m\u001b[1;33m\u001b[0m\u001b[1;33m\u001b[0m\u001b[1;33m\u001b[0m\u001b[0m\n\u001b[0;32m     11\u001b[0m     \u001b[1;31m#dp.DataTable(df[['Position', 'Connected On']]) #altair\u001b[0m\u001b[1;33m\u001b[0m\u001b[1;33m\u001b[0m\u001b[1;33m\u001b[0m\u001b[0m\n",
      "\u001b[1;32m~\\Anaconda3\\lib\\site-packages\\datapane\\client\\api\\report\\blocks.py\u001b[0m in \u001b[0;36m__init__\u001b[1;34m(self, data, caption, responsive, name, label)\u001b[0m\n\u001b[0;32m    673\u001b[0m         \u001b[0mout_fn\u001b[0m \u001b[1;33m=\u001b[0m \u001b[0mself\u001b[0m\u001b[1;33m.\u001b[0m\u001b[0m_save_obj\u001b[0m\u001b[1;33m(\u001b[0m\u001b[0mdata\u001b[0m\u001b[1;33m,\u001b[0m \u001b[0mas_json\u001b[0m\u001b[1;33m=\u001b[0m\u001b[1;32mFalse\u001b[0m\u001b[1;33m)\u001b[0m\u001b[1;33m\u001b[0m\u001b[1;33m\u001b[0m\u001b[0m\n\u001b[0;32m    674\u001b[0m         \u001b[1;32mif\u001b[0m \u001b[0mout_fn\u001b[0m\u001b[1;33m.\u001b[0m\u001b[0mmime\u001b[0m \u001b[1;33m==\u001b[0m \u001b[0mPKL_MIMETYPE\u001b[0m\u001b[1;33m:\u001b[0m\u001b[1;33m\u001b[0m\u001b[1;33m\u001b[0m\u001b[0m\n\u001b[1;32m--> 675\u001b[1;33m             \u001b[1;32mraise\u001b[0m \u001b[0mDPError\u001b[0m\u001b[1;33m(\u001b[0m\u001b[1;34m\"Can't embed object as a plot\"\u001b[0m\u001b[1;33m)\u001b[0m\u001b[1;33m\u001b[0m\u001b[1;33m\u001b[0m\u001b[0m\n\u001b[0m\u001b[0;32m    676\u001b[0m \u001b[1;33m\u001b[0m\u001b[0m\n\u001b[0;32m    677\u001b[0m         super().__init__(\n",
      "\u001b[1;31mDPError\u001b[0m: Can't embed object as a plot\nPlease run with `dp.enable_logging()`, restart your Jupyter kernel/Python instance, and/or visit https://www.github.com/datapane/datapane to raise issue / discuss if error repeats"
     ]
    },
    {
     "data": {
      "image/png": "[encoded data removed]",
      "text/plain": [
       "<Figure size 432x288 with 1 Axes>"
      ]
     },
     "metadata": {
      "needs_background": "light"
     },
     "output_type": "display_data"
    }
   ],
   "source": [
    "df = pd.read_excel(\"Connections.xlsx\", sheet_name= \"worksheet\")\n",
    "#plot1 = df['Position'].value_counts().head(10).plot(kind = \"barh\").invert_yaxis()\n",
    "plot1 = df['Position'].value_counts().head(10).plot(kind = \"barh\").invert_yaxis()\n",
    "\n",
    "dp.Report(\n",
    "    \"# My Linkedin network!\", dp.Select(blocks = [\n",
    "    #dp.Text(\"## Data\"),\n",
    "    dp.Table(df[['Position', 'Connected On']].head(10), label = \"Data\"),\n",
    "    dp.Plot(plot1, label = \"Positions\"),\n",
    "    #dp.Plot(plot2)\n",
    "    #dp.DataTable(df[['Position', 'Connected On']]) #altair\n",
    "    ])\n",
    ").save(path = \"Network.html\", open = True)\n",
    " "
   ]
  }
 ],
 "metadata": {
  "kernelspec": {
   "display_name": "Python 3",
   "language": "python",
   "name": "python3"
  },
  "language_info": {
   "codemirror_mode": {
    "name": "ipython",
    "version": 3
   },
   "file_extension": ".py",
   "mimetype": "text/x-python",
   "name": "python",
   "nbconvert_exporter": "python",
   "pygments_lexer": "ipython3",
   "version": "3.7.6"
  }
 },
 "nbformat": 4,
 "nbformat_minor": 2
}
