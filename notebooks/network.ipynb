
#IMPORTING LIBRARIES

import pandas as pd
import janitor
#import datetime

from IPython.core.display import display, HTML
from pyvis import network
import networkx as nx

#LOAD DATA INTO DATAFRAME, GET INFO

df = pd.read_excel("Connections.xlsx")
df.info()

